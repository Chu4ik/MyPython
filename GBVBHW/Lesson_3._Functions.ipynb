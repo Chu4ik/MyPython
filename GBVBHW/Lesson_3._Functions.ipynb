{
 "cells": [
  {
   "cell_type": "markdown",
   "metadata": {},
   "source": [
    "# Практические задания к уроку 3"
   ]
  },
  {
   "cell_type": "markdown",
   "metadata": {},
   "source": [
    "1. Реализовать функцию, принимающую два числа (позиционные аргументы) и выполняющую их деление. Числа запрашивать у пользователя, предусмотреть обработку ситуации деления на ноль."
   ]
  },
  {
   "cell_type": "code",
   "execution_count": 1,
   "metadata": {},
   "outputs": [
    {
     "name": "stdout",
     "output_type": "stream",
     "text": [
      "3.5\n"
     ]
    }
   ],
   "source": [
    "def quotient():\n",
    "    divisor = int(input('Введите делимое: '))\n",
    "    dividend = int(input('Введите делитель: '))\n",
    "    return divisor / dividend\n",
    "result = quotient()\n",
    "print(result)"
   ]
  },
  {
   "cell_type": "markdown",
   "metadata": {},
   "source": [
    "2. Выполнить функцию, которая принимает несколько параметров, описывающих данные пользователя: имя, фамилия, год рождения, город проживания, email, телефон. Функция должна принимать параметры как именованные аргументы. Осуществить вывод данных о пользователе одной строкой."
   ]
  },
  {
   "cell_type": "code",
   "execution_count": null,
   "metadata": {},
   "outputs": [],
   "source": [
    "def print_user_info(**kwargs):\n",
    "    user_info = (\n",
    "        f\"Name: {kwargs.get('first_name')}, Surname: {kwargs.get('last_name')}, Year of Birth: {kwargs.get('birth_year')}, City: {kwargs.get('city')}, Email: {kwargs.get('email')}, Phone: {kwargs.get('phone')}\"\n",
    "    )\n",
    "    print(user_info)\n",
    "\n",
    "# Получение данных от пользователя\n",
    "first_name = input(\"Enter first name: \")\n",
    "last_name = input(\"Enter last name: \")\n",
    "birth_year = input(\"Enter year of birth: \")\n",
    "city = input(\"Enter city of residence: \")\n",
    "email = input(\"Enter email: \")\n",
    "phone = input(\"Enter phone number: \")\n",
    "\n",
    "# Вызов функции с именованными аргументами\n",
    "print_user_info(\n",
    "    first_name=first_name,\n",
    "    last_name=last_name,\n",
    "    birth_year=birth_year,\n",
    "    city=city,\n",
    "    email=email,\n",
    "    phone=phone\n",
    ")"
   ]
  },
  {
   "cell_type": "markdown",
   "metadata": {},
   "source": [
    "3. Реализовать функцию my_func(), которая принимает три позиционных аргумента и возвращает сумму наибольших двух аргументов."
   ]
  },
  {
   "cell_type": "code",
   "execution_count": 4,
   "metadata": {},
   "outputs": [
    {
     "name": "stdout",
     "output_type": "stream",
     "text": [
      "117\n"
     ]
    }
   ],
   "source": [
    "def my_func(a, b, c):\n",
    "\n",
    "    my_tuple = (a, b, c)\n",
    "    result = sum(sorted(my_tuple)[-2:])\n",
    "    return result\n",
    "\n",
    "print(my_func(12, 100, 17))"
   ]
  },
  {
   "cell_type": "markdown",
   "metadata": {},
   "source": [
    "4. Программа принимает действительное положительное число x и целое отрицательное число y. Выполните возведение числа x в степень y. Задание реализуйте в виде функции my_func(x, y). При решении задания нужно обойтись без встроенной функции возведения числа в степень.\n",
    "Подсказка: попробуйте решить задачу двумя способами. Первый — возведение в степень с помощью оператора **. Второй — более сложная реализация без оператора **, предусматривающая использование цикла."
   ]
  },
  {
   "cell_type": "code",
   "execution_count": null,
   "metadata": {},
   "outputs": [],
   "source": [
    "def my_func(x, y):\n",
    "    return x ** y\n",
    "print(my_func(4, (-5)))\n",
    "\n",
    "def my_func_1(x, y):\n",
    "    result = x\n",
    "    while y < -1:\n",
    "        result = result * x\n",
    "        y += 1\n",
    "        print(result)\n",
    "    return 1 / result\n",
    "print(my_func_1(4, (-5)))\n",
    "a = 4 ** (-5)\n",
    "print(a)\n"
   ]
  },
  {
   "cell_type": "markdown",
   "metadata": {},
   "source": [
    "5. Программа запрашивает у пользователя строку чисел, разделённых пробелом. При нажатии Enter должна выводиться сумма чисел. Пользователь может продолжить ввод чисел, разделённых пробелом и снова нажать Enter. Сумма вновь введённых чисел будет добавляться к уже подсчитанной сумме.\n",
    "Но если вместо числа вводится специальный символ, выполнение программы завершается. Если специальный символ введён после нескольких чисел, то вначале нужно добавить сумму этих чисел к полученной ранее сумме и после этого завершить программу."
   ]
  },
  {
   "cell_type": "code",
   "execution_count": null,
   "metadata": {},
   "outputs": [],
   "source": [
    "def sum_string_number():\n",
    "        exit_outer_loop = False # Флаг для выхода из внешнего цикла\n",
    "        total_sum = 0\n",
    "        while not exit_outer_loop:\n",
    "                string_number = input('Введите числа через пробел: ')\n",
    "                # разбиваем строку на элементы и помещаем их в список\n",
    "                elements_list = string_number.split()\n",
    "                for i in elements_list:\n",
    "                        try:\n",
    "                                int_i = int(i)\n",
    "                                total_sum += int_i\n",
    "                        except ValueError:\n",
    "                                print(f\"Ошибка: '{i}' не является числом.\")\n",
    "                                # Устанавливаем флаг для выхода из внешнего цикла при ошибке\n",
    "                                exit_outer_loop = True\n",
    "                                break # выход из цикла for\n",
    "                print(total_sum)\n",
    "                if exit_outer_loop:\n",
    "                        break # выход из внешнего цикла\n",
    "\n",
    "sum_string_number()"
   ]
  },
  {
   "cell_type": "markdown",
   "metadata": {},
   "source": [
    "6. Реализовать функцию int_func(), принимающую слова из маленьких латинских букв и возвращающую их же, но с прописной первой буквой. Например, 'print(int_func(‘text’)) -> Text.'"
   ]
  },
  {
   "cell_type": "code",
   "execution_count": null,
   "metadata": {},
   "outputs": [],
   "source": [
    "def int_func(a):\n",
    "        capitalized_string = a.capitalize()\n",
    "        return capitalized_string\n",
    "print(int_func('cat'))"
   ]
  },
  {
   "cell_type": "markdown",
   "metadata": {},
   "source": [
    "7. Продолжить работу над заданием. В программу должна попадать строка из слов, разделённых пробелом. Каждое слово состоит из латинских букв в нижнем регистре. Нужно сделать вывод исходной строки, но каждое слово должно начинаться с заглавной буквы. Используйте написанную ранее функцию int_func()."
   ]
  },
  {
   "cell_type": "code",
   "execution_count": 2,
   "metadata": {},
   "outputs": [
    {
     "name": "stdout",
     "output_type": "stream",
     "text": [
      "Fuck My Bitch Up\n"
     ]
    }
   ],
   "source": [
    "def int_func(string):\n",
    "        new_string = string.split() # Разбиваем строку по пробелам на элементы и добавляем в список:\n",
    "        word_string = [i.capitalize() for i in new_string] #Создаем новый список где каждый элемент записываем с заглавной буквы:\n",
    "        separator = \" \" #Определяем разделитель (пробел) по которому будем склеивать элементы из списка\n",
    "        return separator.join(word_string) #Склеиваем строку по пробелу и возвращаем результат\n",
    "print(int_func('fuck my bitch up'))"
   ]
  }
 ],
 "metadata": {
  "kernelspec": {
   "display_name": "Python 3 (ipykernel)",
   "language": "python",
   "name": "python3"
  },
  "language_info": {
   "codemirror_mode": {
    "name": "ipython",
    "version": 3
   },
   "file_extension": ".py",
   "mimetype": "text/x-python",
   "name": "python",
   "nbconvert_exporter": "python",
   "pygments_lexer": "ipython3",
   "version": "3.12.4"
  }
 },
 "nbformat": 4,
 "nbformat_minor": 4
}
