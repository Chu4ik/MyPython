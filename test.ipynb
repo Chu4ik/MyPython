{
 "cells": [
  {
   "cell_type": "markdown",
   "metadata": {},
   "source": [
    "5. Создать (программно) текстовый файл, записать в него программно набор чисел, разделённых пробелами. Программа должна подсчитывать сумму чисел в файле и выводить её на экран."
   ]
  },
  {
   "cell_type": "code",
   "execution_count": 52,
   "metadata": {},
   "outputs": [
    {
     "name": "stdout",
     "output_type": "stream",
     "text": [
      "1 4 54 67 8 9 <class 'str'>\n",
      "143\n"
     ]
    }
   ],
   "source": [
    "with open('My_file_5.5.txt', 'r') as fl:\n",
    "    input_list = fl.read()\n",
    "    print(input_list, type(input_list))\n",
    "    sum_list = input_list.split(' ')\n",
    "    # Преобразование строк в числа и суммирование\n",
    "    total = sum(int(num) for num in sum_list)\n",
    "\n",
    "    # Вывод результата\n",
    "    print(total)\n",
    "\n",
    "\n"
   ]
  },
  {
   "cell_type": "code",
   "execution_count": 48,
   "metadata": {},
   "outputs": [
    {
     "name": "stdout",
     "output_type": "stream",
     "text": [
      "['apple', 'banana', 'cherry']\n"
     ]
    }
   ],
   "source": [
    "# Пример строки\n",
    "text = \"apple,banana,cherry\"\n",
    "\n",
    "# Преобразование строки в список\n",
    "list_from_string = text.split(',')\n",
    "\n",
    "# Вывод результата\n",
    "print(list_from_string)"
   ]
  },
  {
   "cell_type": "code",
   "execution_count": 4,
   "metadata": {},
   "outputs": [
    {
     "data": {
      "text/plain": [
       "65"
      ]
     },
     "execution_count": 4,
     "metadata": {},
     "output_type": "execute_result"
    }
   ],
   "source": [
    "My_file = open('My_file.txt', 'r+', encoding='utf-8')\n",
    "My_file.write('Я волком бы выгрыз бюрократизм.\\n')\n",
    "My_file.write('К мандатам почтения нету.\\n')    \n",
    "My_file.write('К любым чертям с матерями катись любая бумажка.\\n')    \n",
    "My_file.write('Но эту…По длинному фронту купе и кают чиновник учтивый движется.\\n')"
   ]
  },
  {
   "cell_type": "code",
   "execution_count": 20,
   "metadata": {},
   "outputs": [
    {
     "name": "stdout",
     "output_type": "stream",
     "text": [
      "Я волком бы выгрыз бюрократизм.\n",
      "К мандатам почтения нету.\n",
      "К любым чертям с матерями катись любая бумажка.\n",
      "Но эту…По длинному фронту купе и кают чиновник учтивый движется.\n",
      "\n"
     ]
    }
   ],
   "source": [
    "print(open('My_file.txt', encoding='utf-8').read())"
   ]
  },
  {
   "cell_type": "code",
   "execution_count": 22,
   "metadata": {},
   "outputs": [
    {
     "name": "stdout",
     "output_type": "stream",
     "text": [
      "Я волком бы выгрыз бюрократизм.\n",
      "К мандатам почтения нету.\n",
      "К любым чертям с матерями катись любая бумажка.\n",
      "Но эту…По длинному фронту купе и кают чиновник учтивый движется.\n"
     ]
    }
   ],
   "source": [
    "for line in open('My_file.txt', encoding='utf-8').read():\n",
    "    print(line, end='')"
   ]
  },
  {
   "cell_type": "markdown",
   "metadata": {},
   "source": [
    "### Импорт библиотек"
   ]
  },
  {
   "cell_type": "code",
   "execution_count": 1,
   "metadata": {},
   "outputs": [],
   "source": [
    "import numpy\n",
    "import pandas\n",
    "import matplotlib\n",
    "import math"
   ]
  },
  {
   "cell_type": "code",
   "execution_count": 4,
   "metadata": {},
   "outputs": [
    {
     "name": "stdout",
     "output_type": "stream",
     "text": [
      "1.26.2\n"
     ]
    }
   ],
   "source": [
    "import numpy as np\n",
    "print(np.__version__)"
   ]
  }
 ],
 "metadata": {
  "kernelspec": {
   "display_name": "Python 3 (ipykernel)",
   "language": "python",
   "name": "python3"
  },
  "language_info": {
   "codemirror_mode": {
    "name": "ipython",
    "version": 3
   },
   "file_extension": ".py",
   "mimetype": "text/x-python",
   "name": "python",
   "nbconvert_exporter": "python",
   "pygments_lexer": "ipython3",
   "version": "3.10.6"
  }
 },
 "nbformat": 4,
 "nbformat_minor": 4
}
