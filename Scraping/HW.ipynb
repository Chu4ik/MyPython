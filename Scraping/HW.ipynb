{
 "cells": [
  {
   "cell_type": "markdown",
   "metadata": {},
   "source": [
    "Посмотреть документацию к API GitHub, разобраться как вывести список репозиториев для конкретного пользователя, сохранить JSON-вывод в файле *.json. "
   ]
  },
  {
   "cell_type": "code",
   "execution_count": null,
   "metadata": {},
   "outputs": [],
   "source": [
    "import requests\n",
    "import json\n",
    "\n",
    "url = \"https://api.github.com/users/erik-mv/repos\"\n",
    "try:\n",
    "    response = requests.get(url)\n",
    "    response.raise_for_status()  # Проверяет, был ли запрос успешным (если нет, выбрасывает исключение)\n",
    "\n",
    "    repos = response.json()\n",
    "    for repo in repos:\n",
    "        print(f\"Name: {repo['name']}, URL: {repo['html_url']}\")\n",
    "        \n",
    "    # Сохранение в файл JSON\n",
    "    with open('repos.json', 'w', encoding='utf-8') as file:\n",
    "        json.dump(repos, file, ensure_ascii=False, indent=2)\n",
    "\n",
    "except requests.exceptions.HTTPError as http_err:\n",
    "    print(f\"HTTP ошибка: {http_err}\")\n",
    "except requests.exceptions.RequestException as err:\n",
    "    print(f\"Ошибка запроса: {err}\")\n",
    "except Exception as e:\n",
    "    print(f\"Произошла ошибка: {e}\")\n",
    "\n",
    "\n"
   ]
  },
  {
   "cell_type": "markdown",
   "metadata": {},
   "source": [
    " Изучить список открытых API (https://www.programmableweb.com/category/all/apis). Найти среди них любое, требующее авторизацию (любого типа). Выполнить запросы к нему, пройдя авторизацию. Ответ сервера записать в файл."
   ]
  },
  {
   "cell_type": "code",
   "execution_count": 14,
   "metadata": {},
   "outputs": [
    {
     "name": "stdout",
     "output_type": "stream",
     "text": [
      "Данные о погоде сохранены в файл weather_data.json\n"
     ]
    }
   ],
   "source": [
    "import requests\n",
    "import json\n",
    "\n",
    "# Ваш ключ API\n",
    "api_key = 'f6ad36a3fb04e5e72385dfe383106e3c'\n",
    "\n",
    "# Город, для которого мы хотим получить данные о погоде\n",
    "city = 'London'\n",
    "\n",
    "# URL для запроса текущей погоды\n",
    "url = f'http://api.openweathermap.org/data/2.5/weather?q={city}&appid={api_key}&units=metric'\n",
    "\n",
    "# Отправка GET-запроса к API\n",
    "response = requests.get(url)\n",
    "\n",
    "# Проверка успешности запроса\n",
    "if response.status_code == 200:\n",
    "    weather_data = response.json()\n",
    "    \n",
    "    # Сохранение ответа сервера в файл JSON\n",
    "    with open('weather_data.json', 'w', encoding='utf-8') as file:\n",
    "        json.dump(weather_data, file, ensure_ascii=False, indent=2)\n",
    "    \n",
    "    print(\"Данные о погоде сохранены в файл weather_data.json\")\n",
    "else:\n",
    "    print(f\"Ошибка: {response.status_code}\")\n"
   ]
  },
  {
   "cell_type": "markdown",
   "metadata": {},
   "source": [
    "Урок 2. Парсинг данных. HTML, DOM, XPath \n",
    "\n",
    "Написать приложение и функцию, которые собирают основные новости с сайта на выбор lenta.ru, mail.ru . Для парсинга использовать XPath \n",
    "Структура данных должна содержать: \n",
    "* название источника \n",
    "* наименование новости \n",
    "* ссылку на новость \n",
    "* дата публикации \n",
    "минимум один сайт максимум все два "
   ]
  },
  {
   "cell_type": "code",
   "execution_count": 1,
   "metadata": {},
   "outputs": [],
   "source": [
    "from lxml import html\n",
    "import requests\n",
    "\n",
    "#//li[contains(@class, 'news-item-container')]\n"
   ]
  },
  {
   "cell_type": "code",
   "execution_count": 12,
   "metadata": {},
   "outputs": [
    {
     "name": "stdout",
     "output_type": "stream",
     "text": [
      "0\n"
     ]
    }
   ],
   "source": [
    "url = \"https://mail.ru/\"\n",
    "response = requests.get(url)\n",
    "\n",
    "dom = html.fromstring(response.text)\n",
    "goods = dom.xpath(\"//li[contains(@class, 'news-item-container')]/text()\")\n",
    "\n",
    "print(len(goods))"
   ]
  },
  {
   "cell_type": "code",
   "execution_count": null,
   "metadata": {},
   "outputs": [
    {
     "ename": "",
     "evalue": "",
     "output_type": "error",
     "traceback": [
      "\u001b[1;31mRunning cells with 'Python 3.11.9' requires the ipykernel package.\n",
      "\u001b[1;31mRun the following command to install 'ipykernel' into the Python environment. \n",
      "\u001b[1;31mCommand: '\"c:/Users/Slavik Bykov/AppData/Local/Microsoft/WindowsApps/python3.11.exe\" -m pip install ipykernel -U --user --force-reinstall'"
     ]
    }
   ],
   "source": [
    "import certifi\n",
    "print(certifi.where())\n"
   ]
  }
 ],
 "metadata": {
  "kernelspec": {
   "display_name": "Python 3",
   "language": "python",
   "name": "python3"
  },
  "language_info": {
   "codemirror_mode": {
    "name": "ipython",
    "version": 3
   },
   "file_extension": ".py",
   "mimetype": "text/x-python",
   "name": "python",
   "nbconvert_exporter": "python",
   "pygments_lexer": "ipython3",
   "version": "3.13.1"
  }
 },
 "nbformat": 4,
 "nbformat_minor": 2
}
