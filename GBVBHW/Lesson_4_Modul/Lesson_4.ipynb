{
 "cells": [
  {
   "cell_type": "markdown",
   "id": "abe8d829-8c7c-4984-b19c-26c70925c7a5",
   "metadata": {},
   "source": [
    "Реализовать скрипт, в котором должна быть предусмотрена функция расчёта заработной платы сотрудника. Используйте в нём формулу: (выработка в часах*ставка в час) + премия. Во время выполнения расчёта для конкретных значений необходимо запускать скрипт с параметрами."
   ]
  },
  {
   "cell_type": "code",
   "execution_count": null,
   "id": "399293d8-1746-467a-8335-353243dbcb62",
   "metadata": {},
   "outputs": [],
   "source": [
    "from sys import argv\n",
    "\n",
    "script, output_in_hours, rate_per_hour, bonus = argv \n",
    "\n",
    "def payroll_calculation(output_in_hours, rate_per_hour, bonus):\n",
    "    # Преобразуем строки в числа\n",
    "    output_in_hours = float(output_in_hours)\n",
    "    rate_per_hour = float(rate_per_hour)\n",
    "    bonus = float(bonus)\n",
    "    payroll = (output_in_hours * rate_per_hour) + bonus\n",
    "    return payroll\n",
    "\n",
    "print(payroll_calculation(output_in_hours, rate_per_hour, bonus))"
   ]
  },
  {
   "cell_type": "markdown",
   "id": "dae507b3-bca3-4f7c-b9fc-2693acc1070c",
   "metadata": {},
   "source": [
    "Представлен список чисел. Необходимо вывести элементы исходного списка, значения которых больше предыдущего элемента.\n",
    "Подсказка: элементы, удовлетворяющие условию, оформить в виде списка. Для его формирования используйте генератор.\n",
    "Пример исходного списка: [300, 2, 12, 44, 1, 1, 4, 10, 7, 1, 78, 123, 55].\n",
    "Результат: [12, 44, 4, 10, 78, 123].\n"
   ]
  },
  {
   "cell_type": "code",
   "execution_count": null,
   "id": "5018e3b6-3c18-44d0-90c7-ec033c5a237c",
   "metadata": {},
   "outputs": [],
   "source": [
    "my_list = [300, 2, 12, 44, 1, 1, 4, 10, 7, 1, 78, 123, 55]\n",
    "# Формируем новый список, где элементы больше предыдущего\n",
    "result_list = [my_list[i] for i in range(1, len(my_list)) if my_list[i] > my_list[i-1]]\n",
    "# Выводим результат\n",
    "print(result_list)"
   ]
  },
  {
   "cell_type": "markdown",
   "id": "8cec9a9b-19ed-4124-a4f2-8dbc03a85cd3",
   "metadata": {},
   "source": [
    "Для чисел в пределах от 20 до 240 найти числа, кратные 20 или 21. Решите задание в одну строку.\n",
    "Подсказка: используйте функцию range() и генератор\n"
   ]
  },
  {
   "cell_type": "code",
   "execution_count": 4,
   "id": "44d112a7-cbfb-4dda-a417-6deda8126fdb",
   "metadata": {},
   "outputs": [
    {
     "name": "stdout",
     "output_type": "stream",
     "text": [
      "[20, 21, 40, 42, 60, 63, 80, 84, 100, 105, 120, 126, 140, 147, 160, 168, 180, 189, 200, 210, 220, 231, 240]\n",
      "<class 'list'>\n"
     ]
    }
   ],
   "source": [
    "result = [num for num in range(20, 241) if num % 20 == 0 or num % 21 == 0]\n",
    "print(result)\n",
    "print(type(result))"
   ]
  },
  {
   "cell_type": "markdown",
   "id": "bc007831-6d5f-4c59-8767-56e185d376c7",
   "metadata": {},
   "source": [
    "Представлен список чисел. Определите элементы списка, не имеющие повторений. Сформируйте итоговый массив чисел, соответствующих требованию. Элементы выведите в порядке их следования в исходном списке. Для выполнения задания обязательно используйте генератор.\n",
    "Пример исходного списка: [2, 2, 2, 7, 23, 1, 44, 44, 3, 2, 10, 7, 4, 11].\n",
    "Результат: [23, 1, 3, 10, 4, 11]\n"
   ]
  },
  {
   "cell_type": "code",
   "execution_count": 2,
   "id": "4c6bbf59-292f-47a7-bd37-772d43e802b3",
   "metadata": {},
   "outputs": [
    {
     "name": "stdout",
     "output_type": "stream",
     "text": [
      "[23, 1, 3, 10, 4, 11]\n",
      "<class 'generator'>\n"
     ]
    }
   ],
   "source": [
    "my_list = [2, 2, 2, 7, 23, 1, 44, 44, 3, 2, 10, 7, 4, 11]\n",
    "# Генераторное выражение для поиска уникальных элементов\n",
    "unique_elements = (i for i in my_list if my_list.count(i) == 1)\n",
    "# Преобразуем генератор в список\n",
    "result = list(unique_elements)\n",
    "print(result) \n",
    "print(type(unique_elements))"
   ]
  },
  {
   "cell_type": "markdown",
   "id": "d47fae5f-5343-4a4f-811c-35b2d08b70c7",
   "metadata": {},
   "source": [
    "Реализовать формирование списка, используя функцию range() и возможности генератора. В список должны войти чётные числа от 100 до 1000 (включая границы). Нужно получить результат вычисления произведения всех элементов списка.\n",
    "Подсказка: использовать функцию reduce().\n"
   ]
  },
  {
   "cell_type": "code",
   "execution_count": null,
   "id": "c986b673-3975-4e12-95b9-63dac09ddbe0",
   "metadata": {},
   "outputs": [],
   "source": [
    "# импортируем функцию reduce()\n",
    "from functools import reduce\n",
    "# создаем список по условию задачи\n",
    "my_list = [num for num in range(100, 1001) if num % 2 == 0]\n",
    "# создаем функцию для перемножения элементов списка\n",
    "# def multiply(x, y):\n",
    "#    return x * y \n",
    "# result = reduce(multiply, numbers)\n",
    "result = reduce(lambda x, y: x * y, my_list) # короткая версия\n",
    "print(result)\n",
    "print(my_list)\n",
    "print(type(result))"
   ]
  },
  {
   "cell_type": "markdown",
   "id": "6f3744a8-4ec9-4d69-9898-5eb3b9ef1fd1",
   "metadata": {},
   "source": [
    "Реализовать два небольших скрипта:\n",
    "•\tитератор, генерирующий целые числа, начиная с указанного;\n",
    "•\tитератор, повторяющий элементы некоторого списка, определённого заранее. Подсказка: используйте функцию count() и cycle() модуля itertools. Обратите внимание, что создаваемый цикл не должен быть бесконечным. Предусмотрите условие его завершения. #### Например, в первом задании выводим целые числа, начиная с 3. При достижении числа 10 — завершаем цикл. Вторым пунктом необходимо предусмотреть условие, при котором повторение элементов списка прекратится.\n"
   ]
  },
  {
   "cell_type": "code",
   "execution_count": null,
   "id": "e6ee6aef-8638-4f4e-a724-9aad20d120fb",
   "metadata": {},
   "outputs": [],
   "source": [
    "import itertools\n",
    "\n",
    "# Создание итератора, начинающегося с 3\n",
    "counter = itertools.count(3)\n",
    "\n",
    "# Печать первых 5 значений итератора\n",
    "for _ in range(10):\n",
    "    print(next(counter))"
   ]
  },
  {
   "cell_type": "code",
   "execution_count": null,
   "id": "b4bb80c1-d60d-46c4-84eb-21fefcf8d94d",
   "metadata": {},
   "outputs": [],
   "source": [
    "import itertools\n",
    "# Исходная последовательность\n",
    "my_list = [1, 2, 3]\n",
    "# Создание цикличного итератора\n",
    "cycler = itertools.cycle(my_list)\n",
    "\n",
    "# Печать первых 10 значений итератора\n",
    "for _ in range(6):\n",
    "    print(next(cycler))"
   ]
  },
  {
   "cell_type": "markdown",
   "id": "dc94814a-6b4b-4756-b27d-348b8802474c",
   "metadata": {},
   "source": [
    "Реализовать генератор с помощью функции с ключевым словом yield, создающим очередное значение. При вызове функции должен создаваться объект-генератор. Функция вызывается следующим образом: for el in fact(n). Она отвечает за получение факториала числа. В цикле нужно выводить только первые n чисел, начиная с 1! и до n!.\n",
    "Подсказка: факториал числа n — произведение чисел от 1 до n. Например, факториал четырёх 4! = 1 * 2 * 3 * 4 = 24.\n"
   ]
  },
  {
   "cell_type": "code",
   "execution_count": null,
   "id": "9d6d4259-2738-4d17-ba4c-84723adb4054",
   "metadata": {},
   "outputs": [],
   "source": [
    "def factorial_generator(n):\n",
    "    factorial = 1\n",
    "    for i in range(1, n + 1):\n",
    "        factorial *= i\n",
    "        yield factorial\n",
    "# Использование генератора для получения факториалов\n",
    "n = 4\n",
    "factorials = factorial_generator(n)\n",
    "print(type(factorials))\n",
    "# Печать всех факториалов до n\n",
    "for f in factorials:\n",
    "    print(f)"
   ]
  },
  {
   "cell_type": "code",
   "execution_count": null,
   "id": "15110981-ced9-49fc-aaa0-a07422e0f48a",
   "metadata": {},
   "outputs": [],
   "source": []
  }
 ],
 "metadata": {
  "kernelspec": {
   "display_name": "Python 3 (ipykernel)",
   "language": "python",
   "name": "python3"
  },
  "language_info": {
   "codemirror_mode": {
    "name": "ipython",
    "version": 3
   },
   "file_extension": ".py",
   "mimetype": "text/x-python",
   "name": "python",
   "nbconvert_exporter": "python",
   "pygments_lexer": "ipython3",
   "version": "3.11.2"
  }
 },
 "nbformat": 4,
 "nbformat_minor": 5
}
