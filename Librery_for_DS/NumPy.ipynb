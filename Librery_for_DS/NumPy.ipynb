{
  "nbformat": 4,
  "nbformat_minor": 0,
  "metadata": {
    "colab": {
      "provenance": []
    },
    "kernelspec": {
      "name": "python3",
      "display_name": "Python 3"
    },
    "language_info": {
      "name": "python"
    }
  },
  "cells": [
    {
      "cell_type": "code",
      "execution_count": 1,
      "metadata": {
        "colab": {
          "base_uri": "https://localhost:8080/"
        },
        "id": "rGPb6HXy20Ja",
        "outputId": "c65877f2-2043-491a-de96-8a6a0987621f"
      },
      "outputs": [
        {
          "output_type": "stream",
          "name": "stdout",
          "text": [
            "100\n"
          ]
        }
      ],
      "source": [
        "a = 10\n",
        "b = 10\n",
        "c = a * b\n",
        "print(c)"
      ]
    },
    {
      "cell_type": "code",
      "source": [
        "import pandas as pd\n",
        "import numpy as np\n"
      ],
      "metadata": {
        "id": "6LrtksUy3EcC"
      },
      "execution_count": 2,
      "outputs": []
    },
    {
      "cell_type": "code",
      "source": [
        "my_arr = np.arange(1000000)"
      ],
      "metadata": {
        "id": "ga55ON5J_xVY"
      },
      "execution_count": 5,
      "outputs": []
    },
    {
      "cell_type": "code",
      "source": [
        "my_list = list(range(1000000))"
      ],
      "metadata": {
        "id": "YEVfweMd_9DE"
      },
      "execution_count": 6,
      "outputs": []
    },
    {
      "cell_type": "markdown",
      "source": [
        "код numpy"
      ],
      "metadata": {
        "id": "Szj1iY5bASp1"
      }
    },
    {
      "cell_type": "code",
      "source": [
        "%time for _ in range(10): my_arr2 = my_arr * 2"
      ],
      "metadata": {
        "colab": {
          "base_uri": "https://localhost:8080/"
        },
        "id": "25cSBoV-AF-n",
        "outputId": "a8612894-6ee0-4f46-8a4f-8a83d0eb6b2f"
      },
      "execution_count": 7,
      "outputs": [
        {
          "output_type": "stream",
          "name": "stdout",
          "text": [
            "CPU times: user 15.2 ms, sys: 14.1 ms, total: 29.3 ms\n",
            "Wall time: 33.4 ms\n"
          ]
        }
      ]
    },
    {
      "cell_type": "markdown",
      "source": [
        "чистый код python"
      ],
      "metadata": {
        "id": "f8c_4F_jAY3x"
      }
    },
    {
      "cell_type": "code",
      "source": [
        "%time for _ in range(10): my_list2 = [x * 2 for x in my_list]"
      ],
      "metadata": {
        "colab": {
          "base_uri": "https://localhost:8080/"
        },
        "id": "U5sQ1-JnAhoZ",
        "outputId": "ffe91e4b-4c69-41e8-fe46-67890354a657"
      },
      "execution_count": 8,
      "outputs": [
        {
          "output_type": "stream",
          "name": "stdout",
          "text": [
            "CPU times: user 681 ms, sys: 303 ms, total: 985 ms\n",
            "Wall time: 986 ms\n"
          ]
        }
      ]
    },
    {
      "cell_type": "code",
      "source": [
        "data = np.random.randn(2,3)"
      ],
      "metadata": {
        "id": "xDAieautBko7"
      },
      "execution_count": 9,
      "outputs": []
    },
    {
      "cell_type": "code",
      "source": [
        "data"
      ],
      "metadata": {
        "colab": {
          "base_uri": "https://localhost:8080/"
        },
        "id": "J1xF3I-mBx_T",
        "outputId": "985d0ff2-f3ad-4486-9957-fa75f83a6835"
      },
      "execution_count": 10,
      "outputs": [
        {
          "output_type": "execute_result",
          "data": {
            "text/plain": [
              "array([[-0.46343835, -1.65590863,  0.11244309],\n",
              "       [ 1.65132737, -0.66761905, -0.91212085]])"
            ]
          },
          "metadata": {},
          "execution_count": 10
        }
      ]
    },
    {
      "cell_type": "code",
      "source": [
        "data * 10"
      ],
      "metadata": {
        "colab": {
          "base_uri": "https://localhost:8080/"
        },
        "id": "W2NO4DnKB2tK",
        "outputId": "71c49de4-f403-43b5-abf9-385be77ff3fa"
      },
      "execution_count": 11,
      "outputs": [
        {
          "output_type": "execute_result",
          "data": {
            "text/plain": [
              "array([[ -4.63438353, -16.5590863 ,   1.12443093],\n",
              "       [ 16.51327366,  -6.67619053,  -9.12120853]])"
            ]
          },
          "metadata": {},
          "execution_count": 11
        }
      ]
    },
    {
      "cell_type": "code",
      "source": [
        "data + data"
      ],
      "metadata": {
        "colab": {
          "base_uri": "https://localhost:8080/"
        },
        "id": "MTBC_ZguCBwT",
        "outputId": "9de51108-c4c0-4c7b-9c77-14d8418ae2c0"
      },
      "execution_count": 12,
      "outputs": [
        {
          "output_type": "execute_result",
          "data": {
            "text/plain": [
              "array([[-0.92687671, -3.31181726,  0.22488619],\n",
              "       [ 3.30265473, -1.33523811, -1.82424171]])"
            ]
          },
          "metadata": {},
          "execution_count": 12
        }
      ]
    },
    {
      "cell_type": "code",
      "source": [
        "data.shape"
      ],
      "metadata": {
        "colab": {
          "base_uri": "https://localhost:8080/"
        },
        "id": "jxL6bVSPCQ4H",
        "outputId": "7117c67d-4aab-49a0-bc8b-a224f79a894d"
      },
      "execution_count": 13,
      "outputs": [
        {
          "output_type": "execute_result",
          "data": {
            "text/plain": [
              "(2, 3)"
            ]
          },
          "metadata": {},
          "execution_count": 13
        }
      ]
    },
    {
      "cell_type": "code",
      "source": [
        "data.dtype"
      ],
      "metadata": {
        "colab": {
          "base_uri": "https://localhost:8080/"
        },
        "id": "wC_nzJhDCYck",
        "outputId": "c4d7c4d6-99f3-4cc2-a932-f7bb8088c7b3"
      },
      "execution_count": 14,
      "outputs": [
        {
          "output_type": "execute_result",
          "data": {
            "text/plain": [
              "dtype('float64')"
            ]
          },
          "metadata": {},
          "execution_count": 14
        }
      ]
    },
    {
      "cell_type": "code",
      "source": [
        "data1 = [6, 7.5, 8, 0, 1]"
      ],
      "metadata": {
        "id": "9hgSd1bUCkiN"
      },
      "execution_count": 16,
      "outputs": []
    },
    {
      "cell_type": "code",
      "source": [
        "arr1 = np.array(data1)"
      ],
      "metadata": {
        "id": "3MeYvyCpCuCV"
      },
      "execution_count": 17,
      "outputs": []
    },
    {
      "cell_type": "code",
      "source": [
        "arr1"
      ],
      "metadata": {
        "colab": {
          "base_uri": "https://localhost:8080/"
        },
        "id": "9GlfNIPYC3op",
        "outputId": "ace49fca-3014-48fb-d66d-97912fda6efa"
      },
      "execution_count": 18,
      "outputs": [
        {
          "output_type": "execute_result",
          "data": {
            "text/plain": [
              "array([6. , 7.5, 8. , 0. , 1. ])"
            ]
          },
          "metadata": {},
          "execution_count": 18
        }
      ]
    },
    {
      "cell_type": "code",
      "source": [
        "data2 = [[1, 2, 3, 4], [5, 6, 7, 8]]"
      ],
      "metadata": {
        "id": "bAAv-tbIC_pR"
      },
      "execution_count": 19,
      "outputs": []
    },
    {
      "cell_type": "code",
      "source": [
        "arr2 = np.array(data2)"
      ],
      "metadata": {
        "id": "Bp-ubluoDMWv"
      },
      "execution_count": 20,
      "outputs": []
    },
    {
      "cell_type": "code",
      "source": [
        "arr2"
      ],
      "metadata": {
        "colab": {
          "base_uri": "https://localhost:8080/"
        },
        "id": "-2wtYnELDVEf",
        "outputId": "33ce0ea2-3826-4fb0-97b0-15913e93e7f1"
      },
      "execution_count": 21,
      "outputs": [
        {
          "output_type": "execute_result",
          "data": {
            "text/plain": [
              "array([[1, 2, 3, 4],\n",
              "       [5, 6, 7, 8]])"
            ]
          },
          "metadata": {},
          "execution_count": 21
        }
      ]
    },
    {
      "cell_type": "code",
      "source": [
        "arr2.ndim"
      ],
      "metadata": {
        "colab": {
          "base_uri": "https://localhost:8080/"
        },
        "id": "06d9Iu9tDYUR",
        "outputId": "6f302200-7a75-41c3-f98b-79ba31803697"
      },
      "execution_count": 23,
      "outputs": [
        {
          "output_type": "execute_result",
          "data": {
            "text/plain": [
              "2"
            ]
          },
          "metadata": {},
          "execution_count": 23
        }
      ]
    },
    {
      "cell_type": "code",
      "source": [
        "arr2.shape"
      ],
      "metadata": {
        "colab": {
          "base_uri": "https://localhost:8080/"
        },
        "id": "W7My2DNVDo6s",
        "outputId": "18ac92fe-750a-4480-88f8-bdb4054a1c37"
      },
      "execution_count": 24,
      "outputs": [
        {
          "output_type": "execute_result",
          "data": {
            "text/plain": [
              "(2, 4)"
            ]
          },
          "metadata": {},
          "execution_count": 24
        }
      ]
    },
    {
      "cell_type": "code",
      "source": [
        "arr1.dtype"
      ],
      "metadata": {
        "colab": {
          "base_uri": "https://localhost:8080/"
        },
        "id": "nx7f88oJDzs7",
        "outputId": "33d6d559-8bfb-4614-f981-2f336c982993"
      },
      "execution_count": 25,
      "outputs": [
        {
          "output_type": "execute_result",
          "data": {
            "text/plain": [
              "dtype('float64')"
            ]
          },
          "metadata": {},
          "execution_count": 25
        }
      ]
    },
    {
      "cell_type": "code",
      "source": [
        "arr2.dtype"
      ],
      "metadata": {
        "colab": {
          "base_uri": "https://localhost:8080/"
        },
        "id": "J5Def0osD6Dd",
        "outputId": "cd4c8194-5f5f-46a5-9949-46bbc38933a7"
      },
      "execution_count": 26,
      "outputs": [
        {
          "output_type": "execute_result",
          "data": {
            "text/plain": [
              "dtype('int64')"
            ]
          },
          "metadata": {},
          "execution_count": 26
        }
      ]
    },
    {
      "cell_type": "code",
      "source": [
        "np.zeros(10)"
      ],
      "metadata": {
        "colab": {
          "base_uri": "https://localhost:8080/"
        },
        "id": "1-j9R077EDhC",
        "outputId": "08ecc841-ed44-4293-b9a4-dbd29c268876"
      },
      "execution_count": 27,
      "outputs": [
        {
          "output_type": "execute_result",
          "data": {
            "text/plain": [
              "array([0., 0., 0., 0., 0., 0., 0., 0., 0., 0.])"
            ]
          },
          "metadata": {},
          "execution_count": 27
        }
      ]
    },
    {
      "cell_type": "code",
      "source": [
        "np.zeros((3, 6))"
      ],
      "metadata": {
        "colab": {
          "base_uri": "https://localhost:8080/"
        },
        "id": "3Ydy1Q1FEJpc",
        "outputId": "e1e5d000-d218-4a01-dd2b-79a6d62ee931"
      },
      "execution_count": 30,
      "outputs": [
        {
          "output_type": "execute_result",
          "data": {
            "text/plain": [
              "array([[0., 0., 0., 0., 0., 0.],\n",
              "       [0., 0., 0., 0., 0., 0.],\n",
              "       [0., 0., 0., 0., 0., 0.]])"
            ]
          },
          "metadata": {},
          "execution_count": 30
        }
      ]
    },
    {
      "cell_type": "code",
      "source": [
        "np.empty((2, 3, 2))"
      ],
      "metadata": {
        "colab": {
          "base_uri": "https://localhost:8080/"
        },
        "id": "AEzI_ZS1EYh8",
        "outputId": "ce0c185e-ac85-4fe8-eec5-0a0d45f52eae"
      },
      "execution_count": 31,
      "outputs": [
        {
          "output_type": "execute_result",
          "data": {
            "text/plain": [
              "array([[[4.85733125e-310, 0.00000000e+000],\n",
              "        [0.00000000e+000, 0.00000000e+000],\n",
              "        [0.00000000e+000, 0.00000000e+000]],\n",
              "\n",
              "       [[0.00000000e+000, 0.00000000e+000],\n",
              "        [0.00000000e+000, 0.00000000e+000],\n",
              "        [0.00000000e+000, 0.00000000e+000]]])"
            ]
          },
          "metadata": {},
          "execution_count": 31
        }
      ]
    }
  ]
}