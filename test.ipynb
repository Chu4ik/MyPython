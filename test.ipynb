{
 "cells": [
  {
   "cell_type": "code",
   "execution_count": 1,
   "metadata": {},
   "outputs": [],
   "source": [
    "import numpy\n",
    "import pandas\n",
    "import matplotlib\n",
    "import math\n",
    "import requests"
   ]
  },
  {
   "cell_type": "code",
   "execution_count": 2,
   "metadata": {},
   "outputs": [
    {
     "name": "stdout",
     "output_type": "stream",
     "text": [
      "1.26.2\n"
     ]
    }
   ],
   "source": [
    "import numpy as np\n",
    "print(np.__version__)"
   ]
  },
  {
   "cell_type": "code",
   "execution_count": 2,
   "metadata": {},
   "outputs": [
    {
     "name": "stdout",
     "output_type": "stream",
     "text": [
      "python-requests/2.32.3\n"
     ]
    }
   ],
   "source": [
    "import requests\n",
    "\n",
    "# URL для тестирования\n",
    "url = 'https://httpbin.org/user-agent'\n",
    "\n",
    "# Отправка GET-запроса\n",
    "response = requests.get(url)\n",
    "\n",
    "# Извлечение User-Agent из ответа\n",
    "user_agent = response.json()['user-agent']\n",
    "print(user_agent)\n"
   ]
  },
  {
   "cell_type": "code",
   "execution_count": 3,
   "metadata": {},
   "outputs": [
    {
     "name": "stdout",
     "output_type": "stream",
     "text": [
      "<HTML><HEAD><meta http-equiv=\"content-type\" content=\"text/html;charset=utf-8\">\n",
      "<TITLE>301 Moved</TITLE></HEAD><BODY>\n",
      "<H1>301 Moved</H1>\n",
      "The document has moved\n",
      "<A HREF=\"http://www.google.com/\">here</A>.\n",
      "</BODY></HTML>\n"
     ]
    },
    {
     "name": "stderr",
     "output_type": "stream",
     "text": [
      "  % Total    % Received % Xferd  Average Speed   Time    Time     Time  Current\n",
      "                                 Dload  Upload   Total   Spent    Left  Speed\n",
      "\n",
      "  0     0    0     0    0     0      0      0 --:--:-- --:--:-- --:--:--     0* Host google.com:80 was resolved.\n",
      "* IPv6: (none)\n",
      "* IPv4: 142.250.180.238\n",
      "*   Trying 142.250.180.238:80...\n",
      "* Connected to google.com (142.250.180.238) port 80\n",
      "* using HTTP/1.x\n",
      "> GET / HTTP/1.1\n",
      "\n",
      "> Host: google.com\n",
      "\n",
      "> User-Agent: curl/8.10.1\n",
      "\n",
      "> Accept: */*\n",
      "\n",
      "> \n",
      "\n",
      "* Request completely sent off\n",
      "< HTTP/1.1 301 Moved Permanently\n",
      "\n",
      "< Location: http://www.google.com/\n",
      "\n",
      "< Content-Type: text/html; charset=UTF-8\n",
      "\n",
      "< Content-Security-Policy-Report-Only: object-src 'none';base-uri 'self';script-src 'nonce-e_jMwjFMPE0D_4j9dRJQPA' 'strict-dynamic' 'report-sample' 'unsafe-eval' 'unsafe-inline' https: http:;report-uri https://csp.withgoogle.com/csp/gws/other-hp\n",
      "\n",
      "< Date: Thu, 19 Dec 2024 07:18:07 GMT\n",
      "\n",
      "< Expires: Sat, 18 Jan 2025 07:18:07 GMT\n",
      "\n",
      "< Cache-Control: public, max-age=2592000\n",
      "\n",
      "< Server: gws\n",
      "\n",
      "< Content-Length: 219\n",
      "\n",
      "< X-XSS-Protection: 0\n",
      "\n",
      "< X-Frame-Options: SAMEORIGIN\n",
      "\n",
      "< \n",
      "\n",
      "{ [219 bytes data]\n",
      "\n",
      "100   219  100   219    0     0    191      0  0:00:01  0:00:01 --:--:--   192\n",
      "100   219  100   219    0     0    191      0  0:00:01  0:00:01 --:--:--   192\n",
      "* Connection #0 to host google.com left intact\n"
     ]
    }
   ],
   "source": [
    "!curl -v google.com"
   ]
  }
 ],
 "metadata": {
  "kernelspec": {
   "display_name": "Python 3",
   "language": "python",
   "name": "python3"
  },
  "language_info": {
   "codemirror_mode": {
    "name": "ipython",
    "version": 3
   },
   "file_extension": ".py",
   "mimetype": "text/x-python",
   "name": "python",
   "nbconvert_exporter": "python",
   "pygments_lexer": "ipython3",
   "version": "3.12.4"
  }
 },
 "nbformat": 4,
 "nbformat_minor": 4
}
