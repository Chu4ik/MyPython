{
 "cells": [
  {
   "cell_type": "markdown",
   "metadata": {},
   "source": [
    "Задание №1\n",
    "\n",
    "Написать программу, которая в текущем каталоге создает текстовый файл stichi.txt\n",
    "Записывает в него следующий стих (используя print или write).\n",
    "\n",
    "We walk through the years like steps.\n",
    "No need to whine that our ascent is hard.\n",
    "If we suddenly don't find a new step —\n",
    "The way back is always a moment.\n",
    "\n",
    "Задание №2\n",
    "Написать программу, которая считает количество строк в прикрепленном файле.\n",
    "Файл должен находиться в том же каталоге, что и программа.\n",
    "P.S. в подсчет не включать строки, которые обозначают пропуски между частями стихотворения.\n",
    "\n",
    "Задание №3\n",
    "\n",
    "Представленный файл, разбить на 4 файла, каждый из которых содержит по одному абзацу стиха.\n",
    "\n",
    "Задание №4\n",
    "\n",
    "Написать функцию, которая принимает на вход два параметра: имя файла и режим открытия (имя файла вводится пользователем, режим указывается при вызове функции в виде литерала).\n",
    "Функция должна считать количество слов в переданном в нее файле и возвращать это количество.\n",
    "Для тестирования можно использовать текстовый файл из 2 задания.\n",
    "\n",
    "Задание №5\n",
    "\n",
    "Напишите функцию, которая на вход принимает имя файла.\n",
    "Функция должна возвращать следующую информацию о файле:\n",
    "\n",
    "    Количество строк (предложений)\n",
    "    Количество слов\n",
    "    Количество целых чисел\n",
    "    Количество знаков препинания (точки, запятые, вопросительные знаки и др.)\n",
    "\n",
    "\n",
    "Использовать один из прикрепленных текстовых файлов для теста.\n",
    "zadanie5-us.txt\n"
   ]
  },
  {
   "cell_type": "code",
   "execution_count": 23,
   "metadata": {},
   "outputs": [
    {
     "name": "stdout",
     "output_type": "stream",
     "text": [
      "<_io.TextIOWrapper name='My_file_5.7.json' mode='w' encoding='utf-8'>\n"
     ]
    }
   ],
   "source": [
    "import re\n",
    "import json\n",
    "with open('My_file.txt', 'r', encoding='utf-8') as fl:\n",
    "    source_list = fl.readlines()\n",
    "\n",
    "company_profit_dict = {}\n",
    "total_profit = 0\n",
    "count_profit = 0\n",
    "for line in source_list:\n",
    "    values = re.findall(r'\\d+', line) \n",
    "    values = list(map(int, values))\n",
    "    profit = values[0] - values[1]\n",
    "    total_profit += profit if profit >= 0 else 0\n",
    "    count_profit += 1 if profit >= 0 else 0\n",
    "    company_name = line.split(' ')[0].strip()   \n",
    "    company_profit_dict[company_name] = profit \n",
    "\n",
    "average_profit_dict = {'average_profit': round(total_profit / count_profit)}\n",
    "result_list = [company_profit_dict, average_profit_dict]\n",
    "\n",
    "# Сохраняем данные в файл 'data.json'\n",
    "with open('My_file_5.7.json', 'w', encoding='utf-8') as f:\n",
    "    json.dump(result_list, f, ensure_ascii=False, indent=4)\n",
    "    print(f)\n",
    "\n",
    "\n",
    "\n",
    "\n"
   ]
  },
  {
   "cell_type": "code",
   "execution_count": null,
   "metadata": {},
   "outputs": [],
   "source": []
  },
  {
   "cell_type": "code",
   "execution_count": null,
   "metadata": {},
   "outputs": [],
   "source": []
  },
  {
   "cell_type": "code",
   "execution_count": 4,
   "metadata": {},
   "outputs": [
    {
     "data": {
      "text/plain": [
       "65"
      ]
     },
     "execution_count": 4,
     "metadata": {},
     "output_type": "execute_result"
    }
   ],
   "source": [
    "My_file = open('My_file.txt', 'r+', encoding='utf-8')\n",
    "My_file.write('Я волком бы выгрыз бюрократизм.\\n')\n",
    "My_file.write('К мандатам почтения нету.\\n')    \n",
    "My_file.write('К любым чертям с матерями катись любая бумажка.\\n')    \n",
    "My_file.write('Но эту…По длинному фронту купе и кают чиновник учтивый движется.\\n')"
   ]
  },
  {
   "cell_type": "code",
   "execution_count": 20,
   "metadata": {},
   "outputs": [
    {
     "name": "stdout",
     "output_type": "stream",
     "text": [
      "Я волком бы выгрыз бюрократизм.\n",
      "К мандатам почтения нету.\n",
      "К любым чертям с матерями катись любая бумажка.\n",
      "Но эту…По длинному фронту купе и кают чиновник учтивый движется.\n",
      "\n"
     ]
    }
   ],
   "source": [
    "print(open('My_file.txt', encoding='utf-8').read())"
   ]
  },
  {
   "cell_type": "code",
   "execution_count": 22,
   "metadata": {},
   "outputs": [
    {
     "name": "stdout",
     "output_type": "stream",
     "text": [
      "Я волком бы выгрыз бюрократизм.\n",
      "К мандатам почтения нету.\n",
      "К любым чертям с матерями катись любая бумажка.\n",
      "Но эту…По длинному фронту купе и кают чиновник учтивый движется.\n"
     ]
    }
   ],
   "source": [
    "for line in open('My_file.txt', encoding='utf-8').read():\n",
    "    print(line, end='')"
   ]
  },
  {
   "cell_type": "markdown",
   "metadata": {},
   "source": [
    "### Импорт библиотек"
   ]
  },
  {
   "cell_type": "code",
   "execution_count": 1,
   "metadata": {},
   "outputs": [],
   "source": [
    "import numpy\n",
    "import pandas\n",
    "import matplotlib\n",
    "import math"
   ]
  },
  {
   "cell_type": "code",
   "execution_count": 4,
   "metadata": {},
   "outputs": [
    {
     "name": "stdout",
     "output_type": "stream",
     "text": [
      "1.26.2\n"
     ]
    }
   ],
   "source": [
    "import numpy as np\n",
    "print(np.__version__)"
   ]
  }
 ],
 "metadata": {
  "kernelspec": {
   "display_name": "Python 3 (ipykernel)",
   "language": "python",
   "name": "python3"
  },
  "language_info": {
   "codemirror_mode": {
    "name": "ipython",
    "version": 3
   },
   "file_extension": ".py",
   "mimetype": "text/x-python",
   "name": "python",
   "nbconvert_exporter": "python",
   "pygments_lexer": "ipython3",
   "version": "3.10.6"
  }
 },
 "nbformat": 4,
 "nbformat_minor": 4
}
