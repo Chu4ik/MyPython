{
 "cells": [
  {
   "cell_type": "markdown",
   "id": "9ed97554-b3bb-4515-ba36-c549b1d3f72d",
   "metadata": {},
   "source": [
    "### Урок 5. Работа с файлами "
   ]
  },
  {
   "cell_type": "markdown",
   "id": "7e9a11b2-47de-45e7-9d4e-0c85bed62658",
   "metadata": {},
   "source": [
    "\n",
    "1. Создать программный файл в текстовом формате, записать в него построчно данные, вводимые пользователем. Об окончании ввода данных будет свидетельствовать пустая строка0}] \n",
    "Подсказка: использовать менеджер контекста. "
   ]
  },
  {
   "cell_type": "code",
   "execution_count": 1,
   "id": "a5203502-54a8-4428-aac1-0038aa5c9082",
   "metadata": {},
   "outputs": [
    {
     "name": "stdout",
     "output_type": "stream",
     "text": [
      "мама\n",
      "мыла\n",
      "раму\n",
      "\n"
     ]
    }
   ],
   "source": [
    "text = input('Введите текст: ')\n",
    "\n",
    "# Открываем файл для записи\n",
    "with open('My_file_5.1.txt', 'w', encoding='utf-8') as file:\n",
    "    while text != ' ':\n",
    "        file.write(text + '\\n')\n",
    "        text = input('Введите текст: ')\n",
    "print(open('My_file_5.1.txt', encoding='utf-8').read())"
   ]
  },
  {
   "cell_type": "markdown",
   "id": "a8557185-04c7-426b-9ae2-a37fcabbfb97",
   "metadata": {},
   "source": [
    "2. Создать текстовый файл (не программно), сохранить в нём несколько строк, выполнить подсчёт строк и слов в каждой строке."
   ]
  },
  {
   "cell_type": "code",
   "execution_count": null,
   "id": "bcb5f393-a3d4-46a4-8943-6732c26c1a83",
   "metadata": {},
   "outputs": [],
   "source": [
    "# Открываем файл для чтения\n",
    "with open('My_file.txt', 'r', encoding='utf-8') as fl:\n",
    "    for index, line in enumerate(fl, start=1):\n",
    "        # Выводим текст текущей строки\n",
    "        print(f\"Строка {index}: {line.strip()}\")\n",
    "        \n",
    "        # Подсчитываем количество слов в текущей строке\n",
    "        count_words = len(line.split())\n",
    "        print(f\"Количество слов в строке {index}: {count_words}\")\n",
    "\n",
    "    # Поскольку мы итерируем построчно, индекс последней строки равен количеству строк\n",
    "    print(f\"Количество строк в файле: {index}\")\n"
   ]
  },
  {
   "cell_type": "markdown",
   "id": "4470a7a3-522e-4d6b-bed1-2cf52d32e5e4",
   "metadata": {},
   "source": [
    "3. Создать текстовый файл (не программно). Построчно записать фамилии сотрудников и величину их окладов (не менее 10 строк). Определить, кто из сотрудников имеет оклад менее 20 тысяч, вывести фамилии этих сотрудников. Выполнить подсчёт средней величины дохода сотрудников. \n",
    "\n",
    "Пример файла: \n",
    " \n",
    "Иванов 23543.12 \n",
    "Петров 13749.32 "
   ]
  },
  {
   "cell_type": "code",
   "execution_count": null,
   "id": "fdf1a23e-fd21-4330-a2d0-70d7de43038f",
   "metadata": {},
   "outputs": [],
   "source": [
    "with open('My_file_5.3.txt', encoding='utf-8') as fl:\n",
    "    new_dict = {}\n",
    "    for line in fl:\n",
    "        key, value = line.split(' ', 1)  # Разделяем строку на ключ и значение\n",
    "        new_dict[key] = value\n",
    "    cleaned_dict = {key: value.strip() for key, value in new_dict.items()} # создаем словарь\n",
    "    print(cleaned_dict)\n",
    "employees_below_20000 = []\n",
    "for key, value in cleaned_dict.items():\n",
    "    if int(value) < 20000:  # Преобразуем строку в число для сравнения\n",
    "        employees_below_20000.append(key)  # Добавляем ключ в список\n",
    "print(f\"Сотрудники имеющие оклад ниже 20000: {employees_below_20000}\")  # Печатаем \n",
    "\n",
    "total = 0\n",
    "count = 0\n",
    "for value in cleaned_dict.values():\n",
    "    total += int(value)  # Преобразуем строку в число и добавляем к общей сумме\n",
    "    count += 1 \n",
    "average = total / count\n",
    "print(f\"Среднее значение величина дохода: {average}\")\n",
    "    "
   ]
  },
  {
   "cell_type": "markdown",
   "id": "4baa497f-0a52-4c4b-b06c-e363a1106dbc",
   "metadata": {},
   "source": [
    "4. Создать (не программно) текстовый файл со следующим содержимым: \n",
    "\n",
    "One — 1 \n",
    "\n",
    "Two — 2 \n",
    "\n",
    "Three — 3 \n",
    "\n",
    "Four — 4 \n",
    "\n",
    "Напишите программу, открывающую файл на чтение и считывающую построчно данные. При этом английские числительные должны заменяться на русские. Новый блок строк должен записываться в новый текстовый файл. "
   ]
  },
  {
   "cell_type": "code",
   "execution_count": 4,
   "id": "32c82ffb-95d5-401b-b5dc-ee568a54a225",
   "metadata": {},
   "outputs": [],
   "source": [
    "with open('My_file_5.4.txt', 'r') as infile:\n",
    "    my_list = infile.readlines()\n",
    "    cleaned_list = [item.replace('\\n', '') for item in my_list]\n",
    "    # print(cleaned_list)\n",
    "    new_list = []\n",
    "    for i in cleaned_list:\n",
    "        clear_list = i.split(' - ')\n",
    "        new_list.append(clear_list)\n",
    "    # print(new_list)\n",
    "    my_dict = dict(new_list)\n",
    "    # print(my_dict)\n",
    "    translation_dict = {\n",
    "        \"one\": \"Один\",\n",
    "        \"two\": \"Два\",\n",
    "        \"three\": \"Три\",\n",
    "        \"for\": \"Четыре\"\n",
    "    }\n",
    "    # Создаем новый словарь с замененными ключами\n",
    "    translated_dict = {}\n",
    "    # Проходим по исходному словарю\n",
    "    for english_key, value in my_dict.items():\n",
    "        # Используем словарь перевода для замены ключа\n",
    "        russian_key = translation_dict.get(english_key, english_key)  # Если ключа нет в словаре перевода, оставляем его без изменений\n",
    "        # Добавляем в новый словарь\n",
    "        translated_dict[russian_key] = value\n",
    "    # print(translated_dict)\n",
    "\n",
    "    with open('My_file_5.4.1.txt', 'w', encoding='utf-8') as outfile:\n",
    "    # Проходим по ключам и значениям словаря\n",
    "        for key, value in translated_dict.items():\n",
    "            # Записываем каждую пару ключ-значение в файл\n",
    "            outfile.write(f'{key} - {value}\\n')"
   ]
  },
  {
   "cell_type": "markdown",
   "id": "ef1d0c11-704b-4a41-bb78-8aed8d57068e",
   "metadata": {},
   "source": [
    "5. Создать (программно) текстовый файл, записать в него программно набор чисел, разделённых пробелами. Программа должна подсчитывать сумму чисел в файле и выводить её на экран."
   ]
  },
  {
   "cell_type": "code",
   "execution_count": 2,
   "id": "b044d01a-1eef-4b11-bf35-6bedd83a9d7f",
   "metadata": {},
   "outputs": [
    {
     "name": "stdout",
     "output_type": "stream",
     "text": [
      "199 <class 'int'>\n"
     ]
    }
   ],
   "source": [
    "with open('My_file_5.5.txt', 'r') as fl:\n",
    "    input_list = fl.read()\n",
    "    sum_list = input_list.split(' ')\n",
    "    # Преобразование строк в числа и суммирование\n",
    "    total = sum(int(num) for num in sum_list)\n",
    "\n",
    "    # Вывод результата\n",
    "    print(total, type(total))"
   ]
  },
  {
   "cell_type": "markdown",
   "id": "f5cbcea5-78a8-4cf7-bfc3-773154a7a31d",
   "metadata": {},
   "source": [
    "6. Сформировать (не программно) текстовый файл. В нём каждая строка должна описывать учебный предмет и наличие лекционных, практических и лабораторных занятий по предмету. Сюда должно входить и количество занятий. Необязательно, чтобы для каждого предмета были все типы занятий. \n",
    "\n",
    "Сформировать словарь, содержащий название предмета и общее количество занятий по нему. Вывести его на экран. \n",
    "\n",
    "Примеры строк файла: Информатика: 100(л) 50(пр) 20(лаб). \n",
    "Физика: 30(л) — 10(лаб) \n",
    "Физкультура: — 30(пр) — \n",
    "Пример словаря: {“Информатика”: 170, “Физика”: 40, “Физкультура”: 30} "
   ]
  },
  {
   "cell_type": "code",
   "execution_count": 2,
   "id": "f8e33600-b466-4b0f-b0f9-6a5bb3a255c7",
   "metadata": {},
   "outputs": [
    {
     "name": "stdout",
     "output_type": "stream",
     "text": [
      "{'Информатика': 170, 'Физика': 40, 'Физкультура': 30, 'Химия': 5, 'Математика': 0, 'Биология': 80}\n"
     ]
    }
   ],
   "source": [
    "import re\n",
    "\n",
    "# Открываем файл и читаем строки\n",
    "with open('My_file_5.6.txt', 'r', encoding='utf-8') as fl:\n",
    "    input_list = fl.readlines()\n",
    "# Инициализируем словарь для хранения предметов и общего количества занятий\n",
    "result_dict = {}\n",
    "# Обрабатываем каждую строку\n",
    "for line in input_list:\n",
    "    line = line.strip()  # Убираем лишние пробелы и символы новой строки\n",
    "    # Проверяем, не пустая ли строка и содержит ли она символ ':'\n",
    "    if not line or ':' not in line:\n",
    "        continue  # Пропускаем пустые строки и строки без ':'\n",
    "    # Находим все числа в строке\n",
    "    values = re.findall(r'\\d+', line)  \n",
    "    # Получаем сумму количества занятий\n",
    "    total_sum_values = sum(map(int, values))   \n",
    "    # \"Получаем предмет\" - название предмета до символа ':'\n",
    "    subject = line.split(':')[0].strip()    \n",
    "    # Добавляем предмет и сумму занятий в словарь\n",
    "    result_dict[subject] = total_sum_values\n",
    "\n",
    "# Выводим результат\n",
    "print(result_dict)"
   ]
  },
  {
   "cell_type": "markdown",
   "id": "feee6326-8657-405a-8d86-e05086dd7f62",
   "metadata": {},
   "source": [
    "7. Создать вручную и заполнить несколькими строками текстовый файл, в котором каждая строка будет содержать данные о фирме: название, форма собственности, выручка, издержки. \n",
    "\n",
    "Пример строки файла: firm_1 ООО 10000 5000. \n",
    "\n",
    "Необходимо построчно прочитать файл, вычислить прибыль каждой компании, а также среднюю прибыль. Если фирма получила убытки, в расчёт средней прибыли её не включать. \n",
    "\n",
    "Далее реализовать список. Он должен содержать словарь с фирмами и их прибылями, а также словарь со средней прибылью. Если фирма получила убытки, также добавить её в словарь (со значением убытков). \n",
    "\n",
    "Пример списка: [{“firm_1”: 5000, “firm_2”: 3000, “firm_3”: 1000}, {“average_profit”: 2000}]. \n",
    "\n",
    "Итоговый список сохранить в виде json-объекта в соответствующий файл. \n",
    "\n",
    "Пример json-объекта: \n",
    "[{\"firm_1\": 5000, \"firm_2\": 3000, \"firm_3\": 1000}, {\"average_profit\": 2000}] \n",
    "Подсказка: использовать менеджер контекста."
   ]
  },
  {
   "cell_type": "code",
   "execution_count": 1,
   "id": "ddd60b38-da21-4477-9659-fec4222cb4be",
   "metadata": {},
   "outputs": [
    {
     "name": "stdout",
     "output_type": "stream",
     "text": [
      "<_io.TextIOWrapper name='My_file_5.7.json' mode='w' encoding='utf-8'>\n",
      "[{'Альбатрос': 3000, 'Чайка': -1500, 'РЖД': 500000000, 'Французский_бульвар': 50000}, {'average_profit': 166684333}]\n"
     ]
    }
   ],
   "source": [
    "import re\n",
    "import json\n",
    "with open('My_file_5.7.txt', 'r', encoding='utf-8') as fl:\n",
    "    source_list = fl.readlines()\n",
    "\n",
    "company_profit_dict = {}\n",
    "total_profit = 0\n",
    "count_profit = 0\n",
    "for line in source_list:\n",
    "    values = re.findall(r'\\d+', line) \n",
    "    values = list(map(int, values))\n",
    "    profit = values[0] - values[1]\n",
    "    total_profit += profit if profit >= 0 else 0\n",
    "    count_profit += 1 if profit >= 0 else 0\n",
    "    company_name = line.split(' ')[0].strip()   \n",
    "    company_profit_dict[company_name] = profit \n",
    "\n",
    "average_profit_dict = {'average_profit': round(total_profit / count_profit)}\n",
    "result_list = [company_profit_dict, average_profit_dict]\n",
    "\n",
    "# Сохраняем данные в файл 'data.json'\n",
    "with open('My_file_5.7.json', 'w', encoding='utf-8') as f:\n",
    "    json.dump(result_list, f, ensure_ascii=False, indent=4)\n",
    "    print(f)\n",
    "# Читаем данные из файла 'data.json'\n",
    "with open('My_file_5.7.json', 'r', encoding='utf-8') as f:\n",
    "    loaded_data = json.load(f)\n",
    "\n",
    "print(loaded_data)"
   ]
  }
 ],
 "metadata": {
  "kernelspec": {
   "display_name": "Python 3 (ipykernel)",
   "language": "python",
   "name": "python3"
  },
  "language_info": {
   "codemirror_mode": {
    "name": "ipython",
    "version": 3
   },
   "file_extension": ".py",
   "mimetype": "text/x-python",
   "name": "python",
   "nbconvert_exporter": "python",
   "pygments_lexer": "ipython3",
   "version": "3.10.6"
  }
 },
 "nbformat": 4,
 "nbformat_minor": 5
}
