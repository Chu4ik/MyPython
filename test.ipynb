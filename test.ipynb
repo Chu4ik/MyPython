{
 "cells": [
  {
   "cell_type": "markdown",
   "metadata": {},
   "source": []
  },
  {
   "cell_type": "markdown",
   "metadata": {},
   "source": [
    "7. Создать вручную и заполнить несколькими строками текстовый файл, в котором каждая строка будет содержать данные о фирме: название, форма собственности, выручка, издержки. \n",
    "\n",
    "Пример строки файла: firm_1 ООО 10000 5000. \n",
    "\n",
    "Необходимо построчно прочитать файл, вычислить прибыль каждой компании, а также среднюю прибыль. Если фирма получила убытки, в расчёт средней прибыли её не включать. \n",
    "\n",
    "Далее реализовать список. Он должен содержать словарь с фирмами и их прибылями, а также словарь со средней прибылью. Если фирма получила убытки, также добавить её в словарь (со значением убытков). \n",
    "\n",
    "Пример списка: [{“firm_1”: 5000, “firm_2”: 3000, “firm_3”: 1000}, {“average_profit”: 2000}]. \n",
    "\n",
    "Итоговый список сохранить в виде json-объекта в соответствующий файл. \n",
    "\n",
    "Пример json-объекта: \n",
    "[{\"firm_1\": 5000, \"firm_2\": 3000, \"firm_3\": 1000}, {\"average_profit\": 2000}] \n",
    "Подсказка: использовать менеджер контекста."
   ]
  },
  {
   "cell_type": "code",
   "execution_count": 23,
   "metadata": {},
   "outputs": [
    {
     "name": "stdout",
     "output_type": "stream",
     "text": [
      "<_io.TextIOWrapper name='My_file_5.7.json' mode='w' encoding='utf-8'>\n"
     ]
    }
   ],
   "source": [
    "import re\n",
    "import json\n",
    "with open('My_file.txt', 'r', encoding='utf-8') as fl:\n",
    "    source_list = fl.readlines()\n",
    "\n",
    "company_profit_dict = {}\n",
    "total_profit = 0\n",
    "count_profit = 0\n",
    "for line in source_list:\n",
    "    values = re.findall(r'\\d+', line) \n",
    "    values = list(map(int, values))\n",
    "    profit = values[0] - values[1]\n",
    "    total_profit += profit if profit >= 0 else 0\n",
    "    count_profit += 1 if profit >= 0 else 0\n",
    "    company_name = line.split(' ')[0].strip()   \n",
    "    company_profit_dict[company_name] = profit \n",
    "\n",
    "average_profit_dict = {'average_profit': round(total_profit / count_profit)}\n",
    "result_list = [company_profit_dict, average_profit_dict]\n",
    "\n",
    "# Сохраняем данные в файл 'data.json'\n",
    "with open('My_file_5.7.json', 'w', encoding='utf-8') as f:\n",
    "    json.dump(result_list, f, ensure_ascii=False, indent=4)\n",
    "    print(f)\n",
    "\n",
    "\n",
    "\n",
    "\n"
   ]
  },
  {
   "cell_type": "code",
   "execution_count": null,
   "metadata": {},
   "outputs": [],
   "source": []
  },
  {
   "cell_type": "code",
   "execution_count": null,
   "metadata": {},
   "outputs": [],
   "source": []
  },
  {
   "cell_type": "code",
   "execution_count": 4,
   "metadata": {},
   "outputs": [
    {
     "data": {
      "text/plain": [
       "65"
      ]
     },
     "execution_count": 4,
     "metadata": {},
     "output_type": "execute_result"
    }
   ],
   "source": [
    "My_file = open('My_file.txt', 'r+', encoding='utf-8')\n",
    "My_file.write('Я волком бы выгрыз бюрократизм.\\n')\n",
    "My_file.write('К мандатам почтения нету.\\n')    \n",
    "My_file.write('К любым чертям с матерями катись любая бумажка.\\n')    \n",
    "My_file.write('Но эту…По длинному фронту купе и кают чиновник учтивый движется.\\n')"
   ]
  },
  {
   "cell_type": "code",
   "execution_count": 20,
   "metadata": {},
   "outputs": [
    {
     "name": "stdout",
     "output_type": "stream",
     "text": [
      "Я волком бы выгрыз бюрократизм.\n",
      "К мандатам почтения нету.\n",
      "К любым чертям с матерями катись любая бумажка.\n",
      "Но эту…По длинному фронту купе и кают чиновник учтивый движется.\n",
      "\n"
     ]
    }
   ],
   "source": [
    "print(open('My_file.txt', encoding='utf-8').read())"
   ]
  },
  {
   "cell_type": "code",
   "execution_count": 22,
   "metadata": {},
   "outputs": [
    {
     "name": "stdout",
     "output_type": "stream",
     "text": [
      "Я волком бы выгрыз бюрократизм.\n",
      "К мандатам почтения нету.\n",
      "К любым чертям с матерями катись любая бумажка.\n",
      "Но эту…По длинному фронту купе и кают чиновник учтивый движется.\n"
     ]
    }
   ],
   "source": [
    "for line in open('My_file.txt', encoding='utf-8').read():\n",
    "    print(line, end='')"
   ]
  },
  {
   "cell_type": "markdown",
   "metadata": {},
   "source": [
    "### Импорт библиотек"
   ]
  },
  {
   "cell_type": "code",
   "execution_count": 1,
   "metadata": {},
   "outputs": [],
   "source": [
    "import numpy\n",
    "import pandas\n",
    "import matplotlib\n",
    "import math"
   ]
  },
  {
   "cell_type": "code",
   "execution_count": 4,
   "metadata": {},
   "outputs": [
    {
     "name": "stdout",
     "output_type": "stream",
     "text": [
      "1.26.2\n"
     ]
    }
   ],
   "source": [
    "import numpy as np\n",
    "print(np.__version__)"
   ]
  }
 ],
 "metadata": {
  "kernelspec": {
   "display_name": "Python 3 (ipykernel)",
   "language": "python",
   "name": "python3"
  },
  "language_info": {
   "codemirror_mode": {
    "name": "ipython",
    "version": 3
   },
   "file_extension": ".py",
   "mimetype": "text/x-python",
   "name": "python",
   "nbconvert_exporter": "python",
   "pygments_lexer": "ipython3",
   "version": "3.10.6"
  }
 },
 "nbformat": 4,
 "nbformat_minor": 4
}
